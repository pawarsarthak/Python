{
 "cells": [
  {
   "cell_type": "code",
   "execution_count": 7,
   "id": "ab33702a-5083-41f8-a316-b1dbe14a89ed",
   "metadata": {},
   "outputs": [
    {
     "name": "stdin",
     "output_type": "stream",
     "text": [
      "enter num 5\n"
     ]
    },
    {
     "name": "stdout",
     "output_type": "stream",
     "text": [
      "fact of 5 is 120\n"
     ]
    }
   ],
   "source": [
    "#factorial\n",
    "n = int(input(\"enter num\"))\n",
    "i=1\n",
    "fact = 1\n",
    "while(i<=n):\n",
    "    fact = fact*i\n",
    "    i=i+1\n",
    "print(\"fact of\",n,\"is\",fact)"
   ]
  },
  {
   "cell_type": "code",
   "execution_count": 10,
   "id": "d997f381-128c-42cd-b381-74c7f3f6ac45",
   "metadata": {},
   "outputs": [
    {
     "name": "stdin",
     "output_type": "stream",
     "text": [
      "enter num 6\n"
     ]
    },
    {
     "name": "stdout",
     "output_type": "stream",
     "text": [
      "0\n",
      "1\n",
      "1\n",
      "2\n",
      "3\n",
      "5\n"
     ]
    }
   ],
   "source": [
    "#fibonacci\n",
    "n1= 0\n",
    "n2= 1\n",
    "n = int(input(\"enter num\"))\n",
    "i= 1\n",
    "while(i<=n):\n",
    "    print(n1)\n",
    "    nnth = n1+n2\n",
    "    n1 = n2\n",
    "    n2 = nnth\n",
    "    i=i+1 #not i++"
   ]
  },
  {
   "cell_type": "code",
   "execution_count": 44,
   "id": "e4a7f0dc-03ee-46e9-a5bc-2fa967a4a0c4",
   "metadata": {},
   "outputs": [
    {
     "name": "stdin",
     "output_type": "stream",
     "text": [
      "enter string HSWSI eue@HEs\n"
     ]
    },
    {
     "name": "stdout",
     "output_type": "stream",
     "text": [
      "hswsieue@hes is not palindrome\n"
     ]
    }
   ],
   "source": [
    "#string palindrome\n",
    "str1 = input(\"enter string\")\n",
    "str1 = str1.replace(\" \",\"\").lower()\n",
    "strrev = str1[::-1]\n",
    "if(str1 == strrev):\n",
    "    print(str1,\"is palindrome\")\n",
    "else:\n",
    "    print(str1,\"is not palindrome\")"
   ]
  },
  {
   "cell_type": "code",
   "execution_count": 15,
   "id": "a58a1e3c-d4cc-49e8-9ddb-bd5525e8dd23",
   "metadata": {},
   "outputs": [
    {
     "name": "stdin",
     "output_type": "stream",
     "text": [
      "enter num 545\n"
     ]
    },
    {
     "name": "stdout",
     "output_type": "stream",
     "text": [
      "545 is palindrome\n"
     ]
    }
   ],
   "source": [
    "#number palindrome\n",
    "num = int(input(\"enter num\"))\n",
    "ognum = num\n",
    "revnum = 0\n",
    "while(num>0):\n",
    "    digit = num%10\n",
    "    revnum = revnum*10+digit\n",
    "    num = num//10\n",
    "if(ognum == revnum):\n",
    "    print(ognum,\"is palindrome\")\n",
    "else:\n",
    "    print(ognum,\"is not palindrome\")"
   ]
  },
  {
   "cell_type": "code",
   "execution_count": 7,
   "id": "6ea6f020-8b6f-4680-bee0-47057c066116",
   "metadata": {},
   "outputs": [
    {
     "name": "stdin",
     "output_type": "stream",
     "text": [
      "enter num 787\n"
     ]
    },
    {
     "name": "stdout",
     "output_type": "stream",
     "text": [
      "addition of digits of number: 787\n"
     ]
    }
   ],
   "source": [
    "#number digit addition\n",
    "def sum_digit():\n",
    "    num = int(input(\"enter num\"))\n",
    "    num1 = num\n",
    "    addn = 0\n",
    "    while(num>0):\n",
    "        digit = num % 10\n",
    "        addn = addn + digit\n",
    "        num = num//10\n",
    "    print(\"addition of digits of number:\", num1)\n",
    "\n",
    "sum_digit()"
   ]
  },
  {
   "cell_type": "code",
   "execution_count": 27,
   "id": "f87aa297-2f82-44c1-9136-eb45ad3eb6a6",
   "metadata": {},
   "outputs": [
    {
     "name": "stdin",
     "output_type": "stream",
     "text": [
      "enter percentage 94\n"
     ]
    },
    {
     "name": "stdout",
     "output_type": "stream",
     "text": [
      "A+\n"
     ]
    }
   ],
   "source": [
    "#if else ladder\n",
    "percentage = int(input(\"enter percentage\"))\n",
    "if(percentage>=90 and percentage<=100):\n",
    "    print(\"A+\")\n",
    "elif(percentage>=80 and percentage<=89):\n",
    "    print(\"A\")\n",
    "elif(percentage>=60 and percentage<=79):\n",
    "    print(\"B\")\n",
    "elif(percentage>=35 and percentage<=59):\n",
    "    print(\"C\")\n",
    "elif(percentage>=0 and percentage<=34):\n",
    "    print(\"F\")\n",
    "else:\n",
    "    print(\"invalid %\")"
   ]
  },
  {
   "cell_type": "code",
   "execution_count": 35,
   "id": "62b77a02-7402-4160-93dc-edbdd65b55a8",
   "metadata": {},
   "outputs": [
    {
     "name": "stdin",
     "output_type": "stream",
     "text": [
      "enter num1 1\n",
      "enter num2 2\n",
      "enter num3 3\n",
      "enter num4 4\n"
     ]
    },
    {
     "name": "stdout",
     "output_type": "stream",
     "text": [
      "greatest:\n",
      "4\n"
     ]
    }
   ],
   "source": [
    "#greatest among 4 numbers\n",
    "n1= int(input(\"enter num1\"))\n",
    "n2= int(input(\"enter num2\"))\n",
    "n3= int(input(\"enter num3\"))\n",
    "n4= int(input(\"enter num4\"))\n",
    "print(\"greatest:\")\n",
    "if(n1 > n2 and n1 > n3 and n1 > n4):\n",
    "    print(n1)\n",
    "elif(n2 > n3 and n2 > n4 and n2 > n1):\n",
    "    print(n2)\n",
    "elif(n3 > n4 and n3 > n1 and n3 > n2):\n",
    "    print(n3)\n",
    "else:\n",
    "    print(n4)"
   ]
  },
  {
   "cell_type": "code",
   "execution_count": 46,
   "id": "134782cd-8553-4f03-a8d1-88c0d2f85a6a",
   "metadata": {},
   "outputs": [
    {
     "name": "stdin",
     "output_type": "stream",
     "text": [
      "enter your gender amit\n"
     ]
    },
    {
     "name": "stdout",
     "output_type": "stream",
     "text": [
      "you are gay\n"
     ]
    }
   ],
   "source": [
    "#matchcase in python\n",
    "gender = input(\"enter your gender\")\n",
    "match gender:\n",
    "    case \"male\":\n",
    "        print(\"you are male\")\n",
    "    case \"female\":\n",
    "        print(\"you are female\")\n",
    "    case _:\n",
    "        print(\"you are gay\")\n"
   ]
  },
  {
   "cell_type": "code",
   "execution_count": 4,
   "id": "8a9eca4a-fc15-473d-99ed-bf97276efbb3",
   "metadata": {},
   "outputs": [
    {
     "name": "stdin",
     "output_type": "stream",
     "text": [
      "enter letter you choosen in mind d\n"
     ]
    },
    {
     "name": "stdout",
     "output_type": "stream",
     "text": [
      "your letter: d \n",
      "my prediction: d\n"
     ]
    },
    {
     "name": "stdin",
     "output_type": "stream",
     "text": [
      "enter num you choosen in mind 4\n"
     ]
    },
    {
     "name": "stdout",
     "output_type": "stream",
     "text": [
      "your number: 4 \n",
      "my prediction: 4\n"
     ]
    }
   ],
   "source": [
    "#module creation and import (only function) with alias\n",
    "'''\n",
    "mymodule_withfunc.py\n",
    "def numguess():\n",
    "    n = int(input(\"enter num you choosen in mind\"))\n",
    "    print(\"your number:\",n,\"\\nmy prediction:\",n)\n",
    "def letguess():\n",
    "    n = int(input(\"enter letter you choosen in mind\"))\n",
    "    print(\"your letter:\",n,\"\\nmy prediction:\",n)\n",
    "'''\n",
    "\n",
    "import mymodule_withfunc as mmf\n",
    "mmf.letguess()\n",
    "mmf.numguess()"
   ]
  },
  {
   "cell_type": "code",
   "execution_count": 3,
   "id": "249b4602-79b7-47f4-94fe-8dbb8788e577",
   "metadata": {},
   "outputs": [
    {
     "name": "stdin",
     "output_type": "stream",
     "text": [
      "enter student name am\n",
      "enter rollno 33\n"
     ]
    },
    {
     "name": "stdout",
     "output_type": "stream",
     "text": [
      "name: am\n",
      "roll no: 33\n",
      "clg: JSPM\n"
     ]
    }
   ],
   "source": [
    "#module creation and import (class and function)\n",
    "'''\n",
    "mymodule_withclass.py\n",
    "class student:\n",
    "    def getdata(self):\n",
    "        self.name= input(\"enter student name\")\n",
    "        self.rollno= int(input(\"enter rollno\"))\n",
    "    def setdata(self):\n",
    "        print(\"name:\",self.name)\n",
    "        print(\"roll no:\",self.rollno)\n",
    "clg = \"JSPM\"\n",
    "'''\n",
    "from mymodule_withclass import student\n",
    "amit= student()\n",
    "amit.getdata()\n",
    "amit.setdata()\n",
    "# amit.rollno\n",
    "\n",
    "import mymodule_withclass\n",
    "print(\"clg:\",mymodule_withclass.clg)\n",
    "\n",
    "# import mymodule_withclass\n",
    "# a = mymodule_withclass.student()\n",
    "# a.getdata()\n",
    "# a.setdata()"
   ]
  },
  {
   "cell_type": "code",
   "execution_count": 5,
   "id": "8b4d69b4-adbd-4d91-a187-4bd0b1949552",
   "metadata": {},
   "outputs": [
    {
     "name": "stdin",
     "output_type": "stream",
     "text": [
      "enter student name amit\n",
      "enter rollno 34\n"
     ]
    },
    {
     "name": "stdout",
     "output_type": "stream",
     "text": [
      "name: amit\n",
      "roll no: 34\n"
     ]
    }
   ],
   "source": [
    "#user defined package\n",
    "'''\n",
    "mypackage\n",
    "|- __init__.py\n",
    "|- mymodule.py\n",
    "\n",
    "mymodule.py\n",
    "class student:\n",
    "    def getdata(self):\n",
    "        self.name= input(\"enter student name\")\n",
    "        self.rollno= int(input(\"enter rollno\"))\n",
    "    def setdata(self):\n",
    "        print(\"name:\",self.name)\n",
    "        print(\"roll no:\",self.rollno)\n",
    "clg = \"JSPM\"\n",
    "'''\n",
    "\n",
    "from mypackage.mymodule import student as s1\n",
    "amit = s1()\n",
    "amit.getdata()\n",
    "amit.setdata()"
   ]
  },
  {
   "cell_type": "code",
   "execution_count": 39,
   "id": "f952b7d6-f1aa-4d1c-85a7-1c9d87835540",
   "metadata": {},
   "outputs": [
    {
     "name": "stdin",
     "output_type": "stream",
     "text": [
      "enter how many numbers to generate 2\n"
     ]
    },
    {
     "name": "stdout",
     "output_type": "stream",
     "text": [
      "37\n",
      "40\n"
     ]
    }
   ],
   "source": [
    "#generate random elements betn range\n",
    "import numpy as np\n",
    "n = int(input(\"enter how many numbers to generate\"))\n",
    "for i in range(n):\n",
    "    print(np.random.randint(10,50))"
   ]
  },
  {
   "cell_type": "code",
   "execution_count": 41,
   "id": "559f86e1-a862-4b82-8391-a1a178d4018b",
   "metadata": {},
   "outputs": [
    {
     "name": "stdout",
     "output_type": "stream",
     "text": [
      "[1 2 3]\n",
      "[[1 2 3]\n",
      " [3 4 5]\n",
      " [6 7 8]]\n"
     ]
    }
   ],
   "source": [
    "#array declaration and addition\n",
    "a = np.array([1,2,3]) #1d\n",
    "print(a)\n",
    "b = np.array([[1,2,3],[3,4,5]]) #md\n",
    "b = np.append(b,[[6,7,8]],axis=0)\n",
    "print(b)"
   ]
  },
  {
   "cell_type": "code",
   "execution_count": 47,
   "id": "264f3c64-cc91-41a1-a045-2f766ea360ee",
   "metadata": {},
   "outputs": [
    {
     "name": "stdin",
     "output_type": "stream",
     "text": [
      "enter name amit\n",
      "enter rollno 222\n"
     ]
    },
    {
     "name": "stdout",
     "output_type": "stream",
     "text": [
      "name:amit\n",
      "roll no:222\n"
     ]
    }
   ],
   "source": [
    "#read and display data in class\n",
    "class Student:\n",
    "    def read(self):\n",
    "        self.name = input(\"enter name\")\n",
    "        self.rollno = int(input(\"enter rollno\"))\n",
    "    def write(self):\n",
    "        print(\"name:{}\\nroll no:{}\".format(self.name,self.rollno))\n",
    "\n",
    "amit = student()\n",
    "amit.read()\n",
    "amit.write()"
   ]
  },
  {
   "cell_type": "code",
   "execution_count": 60,
   "id": "94adbfeb-6f5c-494f-8eba-1d21a52271e6",
   "metadata": {},
   "outputs": [
    {
     "name": "stdout",
     "output_type": "stream",
     "text": [
      "amit is stuent of jspm\n"
     ]
    }
   ],
   "source": [
    "#single inheritance\n",
    "class College:\n",
    "    def __init__(self,cname):\n",
    "        self.cname=cname\n",
    "class Student(College):\n",
    "    def __init__(self,cname,sname):\n",
    "        super().__init__(cname)\n",
    "        self.sname=sname\n",
    "    def show(self):\n",
    "        print(\"{} is stuent of {}\".format(self.sname,self.cname))\n",
    "        \n",
    "amit = Student(\"jspm\",\"amit\")\n",
    "amit.show()"
   ]
  },
  {
   "cell_type": "code",
   "execution_count": 68,
   "id": "a36710ab-26a8-4139-bbd7-f11071d11c81",
   "metadata": {},
   "outputs": [
    {
     "name": "stdout",
     "output_type": "stream",
     "text": [
      "Default constuctor of Parent called\n"
     ]
    },
    {
     "name": "stdin",
     "output_type": "stream",
     "text": [
      "enter parent class name sarthak\n"
     ]
    },
    {
     "name": "stdout",
     "output_type": "stream",
     "text": [
      "sarthak is parent class name\n",
      "amit is child class name of parent class sarthak\n"
     ]
    }
   ],
   "source": [
    "#single inheritance v2\n",
    "class Parent:\n",
    "    def __init__(self):\n",
    "        print(\"Default constuctor of Parent called\")\n",
    "    def read_data(self):\n",
    "        self._parent_name = input(\"enter parent class name\")\n",
    "        print(\"{} is parent class name\".format(self._parent_name))\n",
    "class Child(Parent):\n",
    "    def __init__(self,child_name):\n",
    "        self.child_name = child_name\n",
    "        super().__init__()\n",
    "    def write_data(self):\n",
    "        print(\"{} is child class name of parent class {}\".format(self.child_name,self._parent_name))\n",
    "\n",
    "amit = Child(\"amit\")\n",
    "amit.read_data()\n",
    "amit.write_data()"
   ]
  },
  {
   "cell_type": "code",
   "execution_count": 74,
   "id": "b7a75d5d-1ae7-4c04-92a9-892d70661d6c",
   "metadata": {},
   "outputs": [
    {
     "name": "stdout",
     "output_type": "stream",
     "text": [
      "Student constructor called\n",
      "MAD Constructor called\n",
      "PWP constructor called\n"
     ]
    },
    {
     "name": "stdin",
     "output_type": "stream",
     "text": [
      "enter mad marks 68\n",
      "enter pwp marks 68\n"
     ]
    },
    {
     "name": "stdout",
     "output_type": "stream",
     "text": [
      "amit has got 97.14285714285714%\n"
     ]
    }
   ],
   "source": [
    "#multiple inheritance:\n",
    "class MAD:\n",
    "    def __init__(self):\n",
    "        print(\"MAD Constructor called\")\n",
    "    def get_mad_data(self):\n",
    "        self.mad_marks = int(input(\"enter mad marks\"))\n",
    "        print\n",
    "class PWP:\n",
    "    def __init__(self):\n",
    "        print(\"PWP constructor called\")\n",
    "    def get_pwp_data(self):\n",
    "        self.pwp_marks = int(input(\"enter pwp marks\"))\n",
    "class Student(MAD,PWP):\n",
    "    def __init__(self,name,rollno):\n",
    "        print(\"Student constructor called\")\n",
    "        self.name = name\n",
    "        self.rollno = rollno\n",
    "        MAD.__init__(self)\n",
    "        PWP.__init__(self)\n",
    "    def put_result(self):\n",
    "        self.total_marks = 140\n",
    "        self.obtained_marks = self.mad_marks + self.pwp_marks\n",
    "        self.percentage = (self.obtained_marks/self.total_marks)*100\n",
    "        print(\"{} has got {}%\".format(self.name,self.percentage))\n",
    "\n",
    "amit = Student(\"amit\",92)\n",
    "amit.get_mad_data()\n",
    "amit.get_pwp_data()\n",
    "amit.put_result()"
   ]
  },
  {
   "cell_type": "code",
   "execution_count": 84,
   "id": "cda9899f-330a-4092-a0a3-7b75d0365e97",
   "metadata": {},
   "outputs": [
    {
     "name": "stdin",
     "output_type": "stream",
     "text": [
      "enter grandfather name baban\n",
      "enter father name sarthak\n"
     ]
    },
    {
     "name": "stdout",
     "output_type": "stream",
     "text": [
      "i am father constructor\n",
      "my name is sarthak father of amit\n",
      "i am grandfather constructor\n",
      "my name is baban grandfather of amit\n"
     ]
    }
   ],
   "source": [
    "#multilevel inheritance\n",
    "class Grandfather:\n",
    "    def __init__(self):\n",
    "        print(\"i am grandfather constructor\")\n",
    "    def get_gfname(self):\n",
    "        self.gfname = input(\"enter grandfather name\")\n",
    "class Father(Grandfather):\n",
    "    def __init__(self):\n",
    "        print(\"i am father constructor\")\n",
    "    def get_fname(self):\n",
    "        self.fname = input(\"enter father name\")\n",
    "class Son(Father):\n",
    "    def __init__(self,sname):\n",
    "        self.sname = sname\n",
    "    def show_hierarchy(self):\n",
    "        Father.__init__(self)\n",
    "        print(\"my name is {} father of {}\".format(self.fname,self.sname))\n",
    "        Grandfather.__init__(self)\n",
    "        print(\"my name is {} grandfather of {}\".format(self.gfname,self.sname))\n",
    "\n",
    "amit = Son(\"amit\")\n",
    "amit.get_gfname()\n",
    "amit.get_fname()\n",
    "amit.show_hierarchy()"
   ]
  },
  {
   "cell_type": "code",
   "execution_count": 95,
   "id": "127d79a3-a504-46b5-a934-df5d8ef71582",
   "metadata": {},
   "outputs": [
    {
     "name": "stdout",
     "output_type": "stream",
     "text": [
      "shape constructor got called\n",
      "cuboid volume is: 27\n"
     ]
    }
   ],
   "source": [
    "#method overloading \n",
    "class Shape:\n",
    "    def __init__(self):\n",
    "        print(\"shape constructor got called\")\n",
    "    def area(self,s1,s2=0,s3=0):\n",
    "        if(s1!=0 and s2==0 and s3==0):\n",
    "            sq_area = s1**2\n",
    "            print(\"area of square is:\",sq_area)\n",
    "        elif(s1!=0 and s2!=0 and s3==0):\n",
    "            rect_area = s1*s2\n",
    "            print(\"area of rectangle is:\",rect_area)\n",
    "        else:\n",
    "            cub_volume = s1*s2*s3\n",
    "            print(\"cuboid volume is:\",cub_volume)\n",
    "\n",
    "polygon = Shape()\n",
    "polygon.area(3,3,3)"
   ]
  },
  {
   "cell_type": "code",
   "execution_count": 96,
   "id": "f6614f44-e3d1-485f-adc6-1ff1268a3d7d",
   "metadata": {},
   "outputs": [
    {
     "name": "stdout",
     "output_type": "stream",
     "text": [
      "welcome to Square\n",
      "area of square is: 25\n",
      "welcome to Rectangle\n",
      "area of rectangle is: 50\n"
     ]
    }
   ],
   "source": [
    "#method overriding\n",
    "class Shape:\n",
    "    def __init__(self):\n",
    "        print(\"Welcome to Shape\")\n",
    "    def area(self):\n",
    "        pass\n",
    "class Square(Shape):\n",
    "    def __init__(self):\n",
    "        print(\"welcome to Square\")\n",
    "    def area(self,s1):\n",
    "        sq_area = s1**2\n",
    "        print(\"area of square is:\",sq_area)\n",
    "class Rectangle(Shape):\n",
    "    def __init__(self):\n",
    "        print(\"welcome to Rectangle\")\n",
    "    def area(self,s1,s2):\n",
    "        rect_area = s1*s2\n",
    "        print(\"area of rectangle is:\",rect_area)\n",
    "\n",
    "sq = Square()\n",
    "sq.area(5)\n",
    "rect = Rectangle()\n",
    "rect.area(5,10)"
   ]
  },
  {
   "cell_type": "code",
   "execution_count": 101,
   "id": "727d4147-a4df-41ef-ba71-8b8cb5eb0e08",
   "metadata": {},
   "outputs": [
    {
     "name": "stdin",
     "output_type": "stream",
     "text": [
      "set user name sarthak\n",
      "set password sp11\n"
     ]
    },
    {
     "name": "stdout",
     "output_type": "stream",
     "text": [
      "Oh no, length is too short!\n",
      "This was account setup process\n"
     ]
    }
   ],
   "source": [
    "#try catch block with UD exception\n",
    "class ShortPasswordException(Exception):\n",
    "    pass\n",
    "def check_password(password):\n",
    "    if(len(password)<8):\n",
    "        raise ShortPasswordException(\"length is too short!\")\n",
    "\n",
    "def user():\n",
    "    user_name = input(\"set user name\")\n",
    "    user_pass = input(\"set password\")\n",
    "    check_password(user_pass)\n",
    "\n",
    "try:\n",
    "    user()\n",
    "except ShortPasswordException as spe:\n",
    "    print(\"Oh no,\",spe)\n",
    "except IOError as ioe:\n",
    "    print(\"Oh no,\",ioe)\n",
    "else:\n",
    "    print(\"congrats!!! your password is valid\")\n",
    "finally:\n",
    "    print(\"This was account setup process\")"
   ]
  },
  {
   "cell_type": "code",
   "execution_count": 132,
   "id": "02435e8d-1c90-436a-a6be-6b131f07654c",
   "metadata": {},
   "outputs": [
    {
     "name": "stdout",
     "output_type": "stream",
     "text": [
      "44\n",
      "0\n",
      "hello world\n",
      "bye world this is appended text\n"
     ]
    }
   ],
   "source": [
    "#file copy paste\n",
    "f = open(\"f1.txt\",\"w\")\n",
    "f.write(\"hello world\\nbye world\")\n",
    "f.close()\n",
    "\n",
    "f = open(\"f1.txt\",\"r\")\n",
    "contents = f.read()\n",
    "f.close()\n",
    "\n",
    "f = open(\"f2.txt\",\"w\")\n",
    "f.write(contents)\n",
    "f.close()\n",
    "\n",
    "f = open(\"f2.txt\",\"r\")\n",
    "contents = f.read()\n",
    "print(contents)\n",
    "f.close()"
   ]
  },
  {
   "cell_type": "code",
   "execution_count": null,
   "id": "82f72f1b-e9c2-40fc-bb5a-9f3a75f80538",
   "metadata": {},
   "outputs": [],
   "source": [
    "#append\n",
    "f = open(\"f2.txt\",\"a+\")\n",
    "# f.write(\" this is appended text\")\n",
    "print(f.tell())\n",
    "f.seek(0)\n",
    "print(f.tell())\n",
    "contents = f.read()\n",
    "print(contents)"
   ]
  },
  {
   "cell_type": "code",
   "execution_count": 138,
   "id": "6f4e8476-c204-4912-b7f1-16ed6d94c818",
   "metadata": {},
   "outputs": [
    {
     "name": "stdout",
     "output_type": "stream",
     "text": [
      "char: h freq: 1\n",
      "char: e freq: 1\n",
      "char: l freq: 2\n",
      "char: o freq: 1\n"
     ]
    }
   ],
   "source": [
    "#char freq count\n",
    "from collections import Counter\n",
    "f = open(\"f2.txt\",\"r\")\n",
    "contents = f.read()\n",
    "char_freq = Counter(contents)\n",
    "for char, freq in char_freq.items():\n",
    "    print(\"char:\",char,\"freq:\",freq)\n",
    "f.close()"
   ]
  },
  {
   "cell_type": "code",
   "execution_count": 144,
   "id": "33f86128-69cf-46b1-b976-4963fdd4873e",
   "metadata": {},
   "outputs": [
    {
     "name": "stdout",
     "output_type": "stream",
     "text": [
      "hello world\n",
      "bye world \n",
      "\n",
      "hello world\n",
      "bye world \n",
      "\n",
      "hello world\n",
      "bye world\n"
     ]
    }
   ],
   "source": [
    "#read,readline,readlines\n",
    "f = open(\"f1.txt\",\"r\")\n",
    "\n",
    "#read\n",
    "contents_read = f.read()\n",
    "print(contents_read,\"\\n\")\n",
    "\n",
    "#readline\n",
    "f.seek(0)\n",
    "contents_readline = \"\"\n",
    "while(True):\n",
    "    line = f.readline()\n",
    "    if(line==\"\"):\n",
    "        break\n",
    "    contents_readline = contents_readline + line\n",
    "print(contents_readline,\"\\n\")\n",
    "\n",
    "#readlines\n",
    "f.seek(0)\n",
    "content_readlines = \"\"\n",
    "lines = f.readlines()\n",
    "for line in lines:\n",
    "    content_readlines = content_readlines + line\n",
    "print(content_readlines)"
   ]
  },
  {
   "cell_type": "code",
   "execution_count": 145,
   "id": "ad61ba65-cd30-4b6e-9ef8-593d12c80678",
   "metadata": {},
   "outputs": [
    {
     "name": "stdout",
     "output_type": "stream",
     "text": [
      "addn: C:\\Users\\Admin\\anaconda3\\Lib\\site-packages\\ipykernel_launcher.py-f\n"
     ]
    }
   ],
   "source": [
    "#cli sys.argv\n",
    "import sys\n",
    "if(len(sys.argv)!=3):\n",
    "    print(\"enter like: python filename num1 num2\")\n",
    "else:\n",
    "    n1 = sys.argv[0]\n",
    "    n2 = sys.argv[1]\n",
    "    addn = n1 + n2\n",
    "    print(\"addn:\",addn)"
   ]
  },
  {
   "cell_type": "code",
   "execution_count": null,
   "id": "09854f8f-ad12-4d2b-9904-fd4366333d9a",
   "metadata": {},
   "outputs": [],
   "source": []
  }
 ],
 "metadata": {
  "kernelspec": {
   "display_name": "Python 3 (ipykernel)",
   "language": "python",
   "name": "python3"
  },
  "language_info": {
   "codemirror_mode": {
    "name": "ipython",
    "version": 3
   },
   "file_extension": ".py",
   "mimetype": "text/x-python",
   "name": "python",
   "nbconvert_exporter": "python",
   "pygments_lexer": "ipython3",
   "version": "3.12.7"
  }
 },
 "nbformat": 4,
 "nbformat_minor": 5
}
