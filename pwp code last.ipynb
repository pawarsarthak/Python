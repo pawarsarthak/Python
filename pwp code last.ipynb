{
 "cells": [
  {
   "cell_type": "code",
   "execution_count": 10,
   "id": "b7e6f34a-e6f8-4aa0-8f6a-f4720013fc05",
   "metadata": {},
   "outputs": [
    {
     "name": "stdout",
     "output_type": "stream",
     "text": [
      "        * \n",
      "      * * \n",
      "    * * * \n",
      "  * * * * \n",
      "* * * * * \n"
     ]
    }
   ],
   "source": [
    "#pattern\n",
    "n=5\n",
    "for i in range(1,n+1):\n",
    "    for j in range(1,(n+1)-i):\n",
    "        print(\" \",end=\" \")\n",
    "    for k in range(1,i+1):\n",
    "        print(\"*\",end=\" \")\n",
    "    print()"
   ]
  },
  {
   "cell_type": "code",
   "execution_count": 15,
   "id": "9fadedc8-4276-4417-9d08-0e9e84a6796b",
   "metadata": {},
   "outputs": [
    {
     "name": "stdout",
     "output_type": "stream",
     "text": [
      "fact: 120\n"
     ]
    }
   ],
   "source": [
    "#factorial\n",
    "def fact(n):\n",
    "    i=1\n",
    "    fact=1\n",
    "    while(i<=n):\n",
    "        fact= fact*i\n",
    "        i+=1\n",
    "    print(\"fact:\",fact)\n",
    "fact(5)"
   ]
  },
  {
   "cell_type": "code",
   "execution_count": 16,
   "id": "e109ef1b-1026-4a7f-841d-76a029624e82",
   "metadata": {},
   "outputs": [
    {
     "name": "stdout",
     "output_type": "stream",
     "text": [
      "fact: 120\n"
     ]
    }
   ],
   "source": [
    "#factorial recursion\n",
    "5*4*3*2*1\n",
    "def factorial(n):\n",
    "    if n==1:\n",
    "        return 1\n",
    "    else:\n",
    "        return n* factorial(n-1)\n",
    "f = factorial(5)\n",
    "print(\"fact:\",f)"
   ]
  },
  {
   "cell_type": "code",
   "execution_count": 18,
   "id": "a9f46713-b9c2-4d34-84f5-5206ea04b771",
   "metadata": {},
   "outputs": [
    {
     "name": "stdout",
     "output_type": "stream",
     "text": [
      "0 1 1 2 3 "
     ]
    }
   ],
   "source": [
    "#fibonacci\n",
    "def fibo(n):\n",
    "    n1= 0\n",
    "    n2= 1\n",
    "    i=1\n",
    "    while(i<=n):\n",
    "        print(n1,end=\" \")\n",
    "        nnth = n1+n2\n",
    "        n1 = n2\n",
    "        n2 = nnth\n",
    "        i+=1\n",
    "fibo(5)"
   ]
  },
  {
   "cell_type": "code",
   "execution_count": 23,
   "id": "0dbf67d7-8f59-4c34-bf77-edb93311506f",
   "metadata": {},
   "outputs": [
    {
     "name": "stdin",
     "output_type": "stream",
     "text": [
      "enter string AbA abA\n"
     ]
    },
    {
     "name": "stdout",
     "output_type": "stream",
     "text": [
      "palindrome\n"
     ]
    }
   ],
   "source": [
    "#string palindrome  \n",
    "def pali(s):\n",
    "    s = s.replace(\" \",\"\").lower()\n",
    "    revstr = s[::-1]\n",
    "    if(revstr == s):\n",
    "        print(\"palindrome\")\n",
    "    else:\n",
    "        print(\"not palindrome\")\n",
    "\n",
    "string = input(\"enter string\")\n",
    "pali(string)"
   ]
  },
  {
   "cell_type": "code",
   "execution_count": 26,
   "id": "c2694f4a-c279-4501-b9fb-4591cedbbe20",
   "metadata": {},
   "outputs": [
    {
     "name": "stdin",
     "output_type": "stream",
     "text": [
      "enter num 7853\n"
     ]
    },
    {
     "name": "stdout",
     "output_type": "stream",
     "text": [
      "not palindrome\n"
     ]
    }
   ],
   "source": [
    "#number palindrome\n",
    "def palin(n):\n",
    "    ogn = n\n",
    "    revnum= 0\n",
    "    while(n>0):\n",
    "        digit = n%10\n",
    "        revnum = revnum*10+digit\n",
    "        n = n//10\n",
    "    if(ogn==revnum):\n",
    "        print(\"palindrome\")\n",
    "    else:\n",
    "        print(\"not palindrome\")\n",
    "n= int(input(\"enter num\"))\n",
    "palin(n)"
   ]
  },
  {
   "cell_type": "code",
   "execution_count": 30,
   "id": "2a1eb323-d8f4-400d-95ba-b06d5f1b9f2d",
   "metadata": {},
   "outputs": [
    {
     "name": "stdin",
     "output_type": "stream",
     "text": [
      "enter num 545\n"
     ]
    },
    {
     "name": "stdout",
     "output_type": "stream",
     "text": [
      "14\n"
     ]
    }
   ],
   "source": [
    "#number digit sum\n",
    "def palin(n):\n",
    "    ogn = n\n",
    "    addn= 0\n",
    "    while(n>0):\n",
    "        digit = n%10\n",
    "        addn = addn+digit\n",
    "        n = n//10\n",
    "    print(addn)\n",
    "n= int(input(\"enter num\"))\n",
    "palin(n)"
   ]
  },
  {
   "cell_type": "code",
   "execution_count": 34,
   "id": "b3940977-bf43-41d6-96a4-b9cb58e31e5e",
   "metadata": {},
   "outputs": [
    {
     "name": "stdin",
     "output_type": "stream",
     "text": [
      "enter your gender female\n"
     ]
    },
    {
     "name": "stdout",
     "output_type": "stream",
     "text": [
      "age must be 21\n"
     ]
    }
   ],
   "source": [
    "#if else ladder\n",
    "def gender_check(gender):\n",
    "    if(gender==\"male\"):\n",
    "        print(\"age must be 18\")\n",
    "    elif(gender==\"female\"):\n",
    "        print(\"age must be 21\")\n",
    "    elif(gender==\"gay\"):\n",
    "        print(\"age must be 25\")\n",
    "    else:\n",
    "        print(\"you are not eligible\")\n",
    "\n",
    "g = input(\"enter your gender\")\n",
    "gender_check(g)"
   ]
  },
  {
   "cell_type": "code",
   "execution_count": 37,
   "id": "c1ec390e-b214-441b-a468-e13d3265c50d",
   "metadata": {},
   "outputs": [
    {
     "name": "stdout",
     "output_type": "stream",
     "text": [
      "4 greatest\n"
     ]
    }
   ],
   "source": [
    "#greatest among 4 numbers\n",
    "def compare(n1,n2,n3,n4):\n",
    "    if(n1>n2 and n1>n3 and n1>n4):\n",
    "        print(n1,\"greatest\")\n",
    "    elif(n2>n3 and n2>n4 and n2>n1):\n",
    "        print(n2,\"greatest\")\n",
    "    elif(n3>n4 and n3>n1 and n3>n2):\n",
    "        print(n3,\"greatest\")\n",
    "    else:\n",
    "        print(n4,\"greatest\")\n",
    "\n",
    "compare(1,2,3,4)"
   ]
  },
  {
   "cell_type": "code",
   "execution_count": 54,
   "id": "c8f092af-96fa-45f8-b287-b857fd2b922b",
   "metadata": {},
   "outputs": [
    {
     "name": "stdout",
     "output_type": "stream",
     "text": [
      "13 prime\n"
     ]
    }
   ],
   "source": [
    "#prime number\n",
    "def prime(n):\n",
    "    if n<=1:\n",
    "        print(\"wrong input\")\n",
    "    else:\n",
    "        flag= True\n",
    "        for i in range(2,n):\n",
    "            if(n%i == 0):\n",
    "                flag=False\n",
    "                break\n",
    "        if(flag==True):\n",
    "            print(n,\"prime\")\n",
    "        else:\n",
    "            print(n,\"not prime\")\n",
    "prime(13)"
   ]
  },
  {
   "cell_type": "code",
   "execution_count": 5,
   "id": "89d1c0b9-25c7-44b9-9b07-d0d7b263bdcc",
   "metadata": {},
   "outputs": [
    {
     "name": "stdin",
     "output_type": "stream",
     "text": [
      "enter name amit\n",
      "enter num 44\n"
     ]
    },
    {
     "name": "stdout",
     "output_type": "stream",
     "text": [
      "name: amit, rollno: 44\n",
      "college: JSPM\n"
     ]
    }
   ],
   "source": [
    "'''\n",
    "package\n",
    "|-__init_.py\n",
    "|-module.py\n",
    "|-module2.py\n",
    "  |-class\n",
    "  |-function\n",
    "  |-constants\n",
    "'''\n",
    "'''\n",
    "mypackage2> mymodule2.py :\n",
    "class Student:\n",
    "    def getdata(self):\n",
    "        self.name = input(\"enter name\")\n",
    "        self.rollno = int(input(\"enter num\"))\n",
    "    def putdata(self):\n",
    "        print(\"name: {}, rollno: {}\".format(self.name,self.rollno))\n",
    "'''\n",
    "\n",
    "from mypackage2.mymodule2 import Student\n",
    "amit = Student()\n",
    "amit.getdata()\n",
    "amit.putdata()\n",
    "print(\"college:\",amit.college)"
   ]
  },
  {
   "cell_type": "code",
   "execution_count": 10,
   "id": "22a7a9c9-5a8e-4cca-b8a9-4e17de30de0c",
   "metadata": {},
   "outputs": [
    {
     "name": "stdout",
     "output_type": "stream",
     "text": [
      "35\n",
      "19\n",
      "40\n",
      "45\n",
      "35\n"
     ]
    }
   ],
   "source": [
    "#random number gen\n",
    "import numpy\n",
    "def random():\n",
    "    for i in range(1,6):\n",
    "        print(numpy.random.randint(10,50))\n",
    "random()"
   ]
  },
  {
   "cell_type": "code",
   "execution_count": 11,
   "id": "2d72a2ad-9329-41d9-b4db-c6cf379935ed",
   "metadata": {},
   "outputs": [
    {
     "name": "stdin",
     "output_type": "stream",
     "text": [
      "enter college name jspm\n",
      "enter student name parth\n",
      "enter roll no 44\n"
     ]
    },
    {
     "name": "stdout",
     "output_type": "stream",
     "text": [
      "student name: parth rollno: 44 college name: jspm\n"
     ]
    }
   ],
   "source": [
    "#single inheritance\n",
    "class College:\n",
    "    def getcdata(self):\n",
    "        self.cname = input(\"enter college name\")\n",
    "class Student(College):\n",
    "    def getsdata(self):\n",
    "        self.sname = input(\"enter student name\")\n",
    "        self.rollno = input(\"enter roll no\")\n",
    "    def putalldata(self):\n",
    "        print(\"student name: {} rollno: {} college name: {}\".format(self.sname,self.rollno,self.cname))\n",
    "\n",
    "parth= Student()\n",
    "parth.getcdata()\n",
    "parth.getsdata()\n",
    "parth.putalldata()"
   ]
  },
  {
   "cell_type": "code",
   "execution_count": 24,
   "id": "e4dace56-ac5a-4023-9d52-56f565b2b3fc",
   "metadata": {},
   "outputs": [
    {
     "name": "stdout",
     "output_type": "stream",
     "text": [
      "bye\n"
     ]
    },
    {
     "name": "stdin",
     "output_type": "stream",
     "text": [
      "enter mad marks 55\n",
      "enter pwp marks 66\n"
     ]
    },
    {
     "name": "stdout",
     "output_type": "stream",
     "text": [
      "hi\n",
      "result: 86.42857142857143 %\n"
     ]
    }
   ],
   "source": [
    "#multiple inheritance\n",
    "class MAD:\n",
    "    def __init__(self):\n",
    "        print(\"ok\")\n",
    "    def getmadmarks(self):\n",
    "        self.madmarks = int(input(\"enter mad marks\"))\n",
    "class PWP:\n",
    "    def __init__(self):\n",
    "        print(\"hi\")\n",
    "    def getpwpmarks(self):\n",
    "        self.pwpmarks = int(input(\"enter pwp marks\"))\n",
    "class Result(MAD,PWP):\n",
    "    def __init__(self):\n",
    "        print(\"bye\")\n",
    "    def showresult(self):\n",
    "        PWP.__init__(self)\n",
    "        self.obtained = self.madmarks + self.pwpmarks\n",
    "        self.total = 140\n",
    "        self.percentage = (self.obtained/self.total)*100\n",
    "        print(\"result:\",self.percentage,\"%\")\n",
    "sarthak = Result()\n",
    "sarthak.getmadmarks()\n",
    "sarthak.getpwpmarks()\n",
    "sarthak.showresult()"
   ]
  },
  {
   "cell_type": "code",
   "execution_count": 25,
   "id": "7d48218d-272b-4ee3-b017-a4df8dfcf774",
   "metadata": {},
   "outputs": [
    {
     "name": "stdin",
     "output_type": "stream",
     "text": [
      "enter gf name baban\n",
      "enter f name sarthak\n",
      "enter s name amit\n"
     ]
    },
    {
     "name": "stdout",
     "output_type": "stream",
     "text": [
      "son:amit father:sarthak grandfather:baban\n"
     ]
    }
   ],
   "source": [
    "#multilevel\n",
    "class GF:\n",
    "    def getgfname(self):\n",
    "        self.gfname = input(\"enter gf name\")\n",
    "class F(GF):\n",
    "    def getfname(self):\n",
    "        self.fname = input(\"enter f name\")\n",
    "class S(F):\n",
    "    def getsname(self):\n",
    "        self.sname = input(\"enter s name\")\n",
    "    def putfamily(self):\n",
    "        print(\"son:{} father:{} grandfather:{}\".format(self.sname, self.fname, self.gfname))\n",
    "amit = S()\n",
    "amit.getgfname()\n",
    "amit.getfname()\n",
    "amit.getsname()\n",
    "amit.putfamily()"
   ]
  },
  {
   "cell_type": "code",
   "execution_count": 30,
   "id": "37143a9c-7a4b-4eef-9bbd-3cea77ad3cf6",
   "metadata": {},
   "outputs": [
    {
     "name": "stdout",
     "output_type": "stream",
     "text": [
      "rect area: 20\n",
      "triangle\n"
     ]
    }
   ],
   "source": [
    "#overloading \n",
    "def area_or_volume(s1,s2=0,s3=0):\n",
    "    if(s1!=0 and s2==0 and s3==0):\n",
    "        sq = s1**2\n",
    "        print(\"sq area:\",self.sq)\n",
    "    elif(s1!=0 and s2!=0 and s3==0):\n",
    "        rect = s1*s2\n",
    "        print(\"rect area:\",rect)\n",
    "    else:\n",
    "        cube = s1*s2*s3\n",
    "        print(\"cube volume:\",cube)\n",
    "        \n",
    "def  shapename(*args):\n",
    "    sides=0\n",
    "    for i in args:\n",
    "        sides+=1\n",
    "    if(sides<3):\n",
    "        print(\"invalid shape\")\n",
    "    elif(sides==3):\n",
    "        print(\"triangle\")\n",
    "    elif(sides==4):\n",
    "        print(\"rectangle\")\n",
    "    else:\n",
    "        print(\"polygon\")\n",
    "\n",
    "area_or_volume(4,5)\n",
    "shapename(5,5,6)"
   ]
  },
  {
   "cell_type": "code",
   "execution_count": 31,
   "id": "489ba649-301a-466a-9d9b-a601c8b7890c",
   "metadata": {},
   "outputs": [
    {
     "name": "stdout",
     "output_type": "stream",
     "text": [
      "area of rect= 12\n",
      "area of square= 9\n"
     ]
    }
   ],
   "source": [
    "#overriding\n",
    "class Shape:\n",
    "    def area(self):\n",
    "        pass\n",
    "class Rect(Shape):\n",
    "    def area(self,s1,s2):\n",
    "        print(\"area of rect=\",s1*s2)\n",
    "class Sq(Shape):\n",
    "    def area(self,s1):\n",
    "        print(\"area of square=\",s1**2)\n",
    "r = Rect()\n",
    "r.area(3,4)\n",
    "\n",
    "s = Sq()\n",
    "s.area(3)"
   ]
  },
  {
   "cell_type": "code",
   "execution_count": 35,
   "id": "20a00e6d-6988-47bb-9636-3537a97ec9c1",
   "metadata": {},
   "outputs": [
    {
     "name": "stdin",
     "output_type": "stream",
     "text": [
      "enter num1 4\n",
      "enter num2 0\n"
     ]
    },
    {
     "name": "stdout",
     "output_type": "stream",
     "text": [
      "division by zero\n"
     ]
    }
   ],
   "source": [
    "#predefined exception\n",
    "def division():\n",
    "    n1 = int(input(\"enter num1\"))\n",
    "    n2 = int(input(\"enter num2\"))\n",
    "    divresult = n1/n2\n",
    "    print(\"result:\",divresult)\n",
    "try:\n",
    "    division()\n",
    "except ZeroDivisionError as z:\n",
    "    print(z)"
   ]
  },
  {
   "cell_type": "code",
   "execution_count": 38,
   "id": "ca1a8f30-2027-4d62-8767-3bcd2c89496f",
   "metadata": {},
   "outputs": [
    {
     "name": "stdin",
     "output_type": "stream",
     "text": [
      "enter uname parth\n",
      "enter pass ru39fhbfbddd\n"
     ]
    },
    {
     "name": "stdout",
     "output_type": "stream",
     "text": [
      "password length okay\n",
      "password check done\n"
     ]
    }
   ],
   "source": [
    "#userdefined exception\n",
    "class ShortPasswordException(Exception):\n",
    "    pass\n",
    "\n",
    "def checkpasslength(password):\n",
    "    if(len(password)<8):\n",
    "        raise ShortPasswordException(\"short password\")\n",
    "\n",
    "def user_details():\n",
    "    username = input(\"enter uname\")\n",
    "    userpass = input(\"enter pass\")\n",
    "    checkpasslength(userpass)\n",
    "\n",
    "try:\n",
    "    user_details()\n",
    "except ShortPasswordException as spe:\n",
    "    print(spe)\n",
    "else:\n",
    "    print(\"password length okay\")\n",
    "finally:\n",
    "    print(\"password check done\")"
   ]
  },
  {
   "cell_type": "code",
   "execution_count": 45,
   "id": "6e0aef0d-38e4-4599-9531-1f997989627f",
   "metadata": {},
   "outputs": [
    {
     "name": "stdout",
     "output_type": "stream",
     "text": [
      "hello world\n",
      "bye worldhello world\n",
      "bye worldhello world\n",
      "bye world\n"
     ]
    }
   ],
   "source": [
    "#file copy paste\n",
    "f = open(\"f1.txt\",\"r\")\n",
    "contents = f.read()\n",
    "f.close()\n",
    "\n",
    "f = open(\"f2.txt\",\"a+\")\n",
    "f.write(contents)\n",
    "f.seek(0)\n",
    "c = f.read()\n",
    "print(c)\n",
    "f.close()"
   ]
  },
  {
   "cell_type": "code",
   "execution_count": 47,
   "id": "ae91f967-2949-43dc-ad3b-b13c6f012c17",
   "metadata": {},
   "outputs": [
    {
     "name": "stdout",
     "output_type": "stream",
     "text": [
      "char: h freq: 1\n",
      "char: e freq: 1\n",
      "char: l freq: 2\n",
      "char: o freq: 1\n"
     ]
    }
   ],
   "source": [
    "from collections import Counter\n",
    "f = open(\"f2.txt\",\"r\")\n",
    "contents = f.read()\n",
    "char_freq = Counter(contents)\n",
    "for char,freq in char_freq.items():\n",
    "    print(\"char:\",char,\"freq:\",freq)"
   ]
  },
  {
   "cell_type": "code",
   "execution_count": 48,
   "id": "a629f2c4-5583-4aee-9ecc-8b34619b7605",
   "metadata": {},
   "outputs": [
    {
     "name": "stdout",
     "output_type": "stream",
     "text": [
      "addn: -fC:\\Users\\Admin\\AppData\\Roaming\\jupyter\\runtime\\kernel-4b439c1b-669e-43b7-ba2d-3c86f3273a04.json\n"
     ]
    }
   ],
   "source": [
    "#cli\n",
    "import sys\n",
    "if(len(sys.argv)!=3):\n",
    "    print(\"pass 3 args inc file name\")\n",
    "else:\n",
    "    addn = sys.argv[1] + sys.argv[2]\n",
    "    print(\"addn:\",addn)"
   ]
  },
  {
   "cell_type": "code",
   "execution_count": 53,
   "id": "5a06e6c0-88af-4ed2-8f97-005df9ca8938",
   "metadata": {},
   "outputs": [
    {
     "name": "stdin",
     "output_type": "stream",
     "text": [
      "enter string hufSHueufHSHS hdUS\n"
     ]
    },
    {
     "name": "stdout",
     "output_type": "stream",
     "text": [
      "string:hufSHueufHSHShdUS, uppercase char:8, lowercase char:9\n"
     ]
    }
   ],
   "source": [
    "#case count\n",
    "def case_count():\n",
    "    s = input(\"enter string\").replace(\" \",\"\")\n",
    "    upperchar = 0\n",
    "    lowerchar = 0\n",
    "    for i in s:\n",
    "        if(i.isupper()==True):\n",
    "            upperchar+=1\n",
    "        else:\n",
    "            lowerchar+=1\n",
    "    print(\"string:{}, uppercase char:{}, lowercase char:{}\".format(s,upperchar,lowerchar))\n",
    "case_count()"
   ]
  },
  {
   "cell_type": "code",
   "execution_count": null,
   "id": "0cf30446-8952-474e-8a54-67f13cb2276d",
   "metadata": {},
   "outputs": [],
   "source": []
  }
 ],
 "metadata": {
  "kernelspec": {
   "display_name": "Python 3 (ipykernel)",
   "language": "python",
   "name": "python3"
  },
  "language_info": {
   "codemirror_mode": {
    "name": "ipython",
    "version": 3
   },
   "file_extension": ".py",
   "mimetype": "text/x-python",
   "name": "python",
   "nbconvert_exporter": "python",
   "pygments_lexer": "ipython3",
   "version": "3.12.7"
  }
 },
 "nbformat": 4,
 "nbformat_minor": 5
}
